{
 "cells": [
  {
   "cell_type": "code",
   "execution_count": 1,
   "id": "19b7a68b",
   "metadata": {},
   "outputs": [],
   "source": [
    "import sys\n",
    "import os\n",
    "import pandas as pd\n",
    "import numpy as np\n",
    "from keras.models import model_from_json\n",
    "from sklearn.model_selection import train_test_split\n",
    "from sklearn.preprocessing import LabelEncoder\n",
    "from sklearn.ensemble import RandomForestRegressor\n",
    "from sklearn.metrics import mean_squared_error"
   ]
  },
  {
   "cell_type": "code",
   "execution_count": 2,
   "id": "764e6f89",
   "metadata": {},
   "outputs": [],
   "source": [
    "# Load the emotion detection model\n",
    "model_emotion = model_from_json(open(\"fer.json\", \"r\").read())\n",
    "model_emotion.load_weights('fer.h5')"
   ]
  },
  {
   "cell_type": "code",
   "execution_count": 3,
   "id": "1c3273d8",
   "metadata": {},
   "outputs": [],
   "source": [
    "# Load the personality dataset\n",
    "df_personality = pd.read_csv('emotion_personality_dataset.csv')"
   ]
  },
  {
   "cell_type": "code",
   "execution_count": 4,
   "id": "c08fafc2",
   "metadata": {},
   "outputs": [],
   "source": [
    "# Map emotions to Big Five personality traits\n",
    "emotion_to_personality = {\n",
    "    'Happy': {'Extraversion': 1, 'Neuroticism': 0, 'Agreeableness': 0, 'Openness': 0, 'Conscientiousness': 0},\n",
    "    'Sad': {'Extraversion': 0, 'Neuroticism': 1, 'Agreeableness': 0, 'Openness': 0, 'Conscientiousness': 0},\n",
    "    'Angry': {'Extraversion': 0, 'Neuroticism': 0, 'Agreeableness': -1, 'Openness': 0, 'Conscientiousness': 0},\n",
    "    'Neutral': {'Extraversion': 0, 'Neuroticism': 0, 'Agreeableness': 0, 'Openness': 1, 'Conscientiousness': 0},\n",
    "    'Fear': {'Extraversion': 0, 'Neuroticism': 1, 'Agreeableness': 0, 'Openness': 0, 'Conscientiousness': 0},\n",
    "    'Surprise': {'Extraversion': 0, 'Neuroticism': 0, 'Agreeableness': 0, 'Openness': 1, 'Conscientiousness': 0},\n",
    "    'Disgust': {'Extraversion': 0, 'Neuroticism': 0, 'Agreeableness': -1, 'Openness': 0, 'Conscientiousness': 0}\n",
    "}"
   ]
  },
  {
   "cell_type": "code",
   "execution_count": 5,
   "id": "0eb9380d",
   "metadata": {},
   "outputs": [],
   "source": [
    "# Function to predict personality traits based on detected emotions\n",
    "def predict_personality(img_pixels):\n",
    "    # Predict emotion using the emotion detection model\n",
    "    predictions_emotion = model_emotion.predict(img_pixels)\n",
    "    max_index = np.argmax(predictions_emotion[0])\n",
    "    emotions = ['Happy', 'Sad', 'Angry', 'Neutral', 'Fear', 'Surprise', 'Disgust']\n",
    "    detected_emotion = emotions[max_index]\n",
    "\n",
    "    # Map detected emotion to personality trait\n",
    "    personality_trait = emotion_to_personality.get(detected_emotion, 'Unknown')\n",
    "\n",
    "    return personality_trait"
   ]
  },
  {
   "cell_type": "code",
   "execution_count": 6,
   "id": "e92cef42",
   "metadata": {},
   "outputs": [
    {
     "name": "stdout",
     "output_type": "stream",
     "text": [
      "1/1 [==============================] - 0s 241ms/step\n",
      "1/1 [==============================] - 0s 50ms/step\n",
      "1/1 [==============================] - 0s 53ms/step\n",
      "1/1 [==============================] - 0s 38ms/step\n",
      "1/1 [==============================] - 0s 35ms/step\n",
      "1/1 [==============================] - 0s 63ms/step\n",
      "1/1 [==============================] - 0s 36ms/step\n",
      "1/1 [==============================] - 0s 73ms/step\n",
      "1/1 [==============================] - 0s 38ms/step\n",
      "1/1 [==============================] - 0s 31ms/step\n",
      "1/1 [==============================] - 0s 38ms/step\n",
      "1/1 [==============================] - 0s 63ms/step\n",
      "1/1 [==============================] - 0s 46ms/step\n",
      "1/1 [==============================] - 0s 45ms/step\n",
      "1/1 [==============================] - 0s 53ms/step\n",
      "1/1 [==============================] - 0s 52ms/step\n",
      "1/1 [==============================] - 0s 31ms/step\n",
      "1/1 [==============================] - 0s 57ms/step\n",
      "1/1 [==============================] - 0s 34ms/step\n",
      "1/1 [==============================] - 0s 31ms/step\n",
      "1/1 [==============================] - 0s 34ms/step\n",
      "1/1 [==============================] - 0s 32ms/step\n",
      "1/1 [==============================] - 0s 34ms/step\n",
      "1/1 [==============================] - 0s 30ms/step\n",
      "1/1 [==============================] - 0s 31ms/step\n",
      "1/1 [==============================] - 0s 42ms/step\n",
      "1/1 [==============================] - 0s 30ms/step\n",
      "1/1 [==============================] - 0s 34ms/step\n",
      "1/1 [==============================] - 0s 45ms/step\n",
      "1/1 [==============================] - 0s 30ms/step\n",
      "1/1 [==============================] - 0s 39ms/step\n",
      "1/1 [==============================] - 0s 30ms/step\n",
      "1/1 [==============================] - 0s 37ms/step\n",
      "1/1 [==============================] - 0s 31ms/step\n",
      "1/1 [==============================] - 0s 30ms/step\n",
      "1/1 [==============================] - 0s 39ms/step\n",
      "1/1 [==============================] - 0s 31ms/step\n",
      "1/1 [==============================] - 0s 46ms/step\n",
      "1/1 [==============================] - 0s 32ms/step\n",
      "1/1 [==============================] - 0s 34ms/step\n",
      "1/1 [==============================] - 0s 31ms/step\n",
      "1/1 [==============================] - 0s 32ms/step\n",
      "1/1 [==============================] - 0s 47ms/step\n",
      "1/1 [==============================] - 0s 31ms/step\n",
      "1/1 [==============================] - 0s 46ms/step\n",
      "1/1 [==============================] - 0s 38ms/step\n",
      "1/1 [==============================] - 0s 31ms/step\n",
      "1/1 [==============================] - 0s 29ms/step\n",
      "1/1 [==============================] - 0s 31ms/step\n",
      "1/1 [==============================] - 0s 45ms/step\n",
      "1/1 [==============================] - 0s 33ms/step\n"
     ]
    }
   ],
   "source": [
    "import cv2\n",
    "import time\n",
    "from keras.preprocessing import image\n",
    "#Size for face detection\n",
    "size = 4\n",
    "classifier = cv2.CascadeClassifier('haarcascade_frontalface_default.xml')\n",
    "# Capture video from the default webcam\n",
    "cap = cv2.VideoCapture(0)\n",
    "now = time.time()\n",
    "future = now + 10  # Set the duration of the video capture (10 seconds in this case)\n",
    "\n",
    "while True:\n",
    "    ret, im = cap.read()\n",
    "    if not ret:\n",
    "        continue\n",
    "\n",
    "    gray_img = cv2.cvtColor(im, cv2.COLOR_BGR2GRAY)\n",
    "    faces_detected = classifier.detectMultiScale(gray_img, 1.32, 5)\n",
    "\n",
    "    for (x, y, w, h) in faces_detected:\n",
    "        cv2.rectangle(im, (x, y), (x + w, y + h), (255, 0, 0), thickness=7)\n",
    "        roi_gray = gray_img[y:y + w, x:x + h]\n",
    "        roi_gray = cv2.resize(roi_gray, (48, 48))\n",
    "        img_pixels = image.img_to_array(roi_gray)\n",
    "        img_pixels = np.expand_dims(img_pixels, axis=0)\n",
    "        img_pixels /= 255\n",
    "        # Predict personality trait based on detected emotion\n",
    "        predicted_trait = predict_personality(img_pixels)\n",
    "\n",
    "        font = cv2.FONT_HERSHEY_TRIPLEX\n",
    "        cv2.putText(im, f'Predicted Trait: {predicted_trait}', (x + h, y - 30), font, 1, (255, 255, 255), 2)\n",
    "\n",
    "    cv2.imshow('Face detection and Personality prediction', im)\n",
    "    key = cv2.waitKey(5) & 0xff\n",
    "\n",
    "    if time.time() > future:\n",
    "        break\n",
    "\n",
    "cap.release()\n",
    "cv2.destroyAllWindows()"
   ]
  },
  {
   "cell_type": "code",
   "execution_count": null,
   "id": "6ff77113",
   "metadata": {},
   "outputs": [],
   "source": []
  }
 ],
 "metadata": {
  "kernelspec": {
   "display_name": "Python 3 (ipykernel)",
   "language": "python",
   "name": "python3"
  },
  "language_info": {
   "codemirror_mode": {
    "name": "ipython",
    "version": 3
   },
   "file_extension": ".py",
   "mimetype": "text/x-python",
   "name": "python",
   "nbconvert_exporter": "python",
   "pygments_lexer": "ipython3",
   "version": "3.11.3"
  }
 },
 "nbformat": 4,
 "nbformat_minor": 5
}
