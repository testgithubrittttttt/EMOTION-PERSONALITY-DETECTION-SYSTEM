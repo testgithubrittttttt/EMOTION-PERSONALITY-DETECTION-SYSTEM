{
 "cells": [
  {
   "cell_type": "code",
   "execution_count": 1,
   "id": "1b18f425",
   "metadata": {},
   "outputs": [],
   "source": [
    "import pandas as pd\n",
    "import numpy as np\n",
    "\n",
    "# Generate a synthetic dataset with 100 samples\n",
    "num_samples = 100\n",
    "emotion_labels = np.random.choice(['Happy', 'Sad', 'Angry', 'Neutral', 'Fear', 'Surprised', 'Disgust'], num_samples)\n",
    "personality_traits = np.random.rand(num_samples, 5)  # Random personality trait scores between 0 and 1\n",
    "\n",
    "# Create a DataFrame \n",
    "df = pd.DataFrame({\n",
    "    'Emotion Label': emotion_labels,\n",
    "    'Openness': personality_traits[:, 0],\n",
    "    'Conscientiousness': personality_traits[:, 1],\n",
    "    'Extraversion': personality_traits[:, 2],\n",
    "    'Agreeableness': personality_traits[:, 3],\n",
    "    'Neuroticism': personality_traits[:, 4]\n",
    "})\n",
    "\n",
    "# Save the dataset to a CSV file\n",
    "df.to_csv('emotion_personality_dataset.csv', index=False)"
   ]
  },
  {
   "cell_type": "code",
   "execution_count": null,
   "id": "2d73acc8",
   "metadata": {},
   "outputs": [],
   "source": []
  }
 ],
 "metadata": {
  "kernelspec": {
   "display_name": "Python 3 (ipykernel)",
   "language": "python",
   "name": "python3"
  },
  "language_info": {
   "codemirror_mode": {
    "name": "ipython",
    "version": 3
   },
   "file_extension": ".py",
   "mimetype": "text/x-python",
   "name": "python",
   "nbconvert_exporter": "python",
   "pygments_lexer": "ipython3",
   "version": "3.11.3"
  }
 },
 "nbformat": 4,
 "nbformat_minor": 5
}
